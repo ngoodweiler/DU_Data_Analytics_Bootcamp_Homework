{
 "cells": [
  {
   "cell_type": "code",
   "execution_count": 1,
   "metadata": {},
   "outputs": [],
   "source": [
    "import pandas as pd"
   ]
  },
  {
   "cell_type": "code",
   "execution_count": 2,
   "metadata": {},
   "outputs": [],
   "source": [
    "# The path to our CSV file\n",
    "csvfile = 'Resources/KickstarterData.csv'\n",
    "# Read our Kickstarter data into pandas\n",
    "kickstarter_df = pd.read_csv(csvfile)"
   ]
  },
  {
   "cell_type": "code",
   "execution_count": 3,
   "metadata": {},
   "outputs": [
    {
     "data": {
      "text/plain": [
       "Index(['id', 'photo', 'name', 'blurb', 'goal', 'pledged', 'state', 'slug',\n",
       "       'disable_communication', 'country', 'currency', 'currency_symbol',\n",
       "       'currency_trailing_code', 'deadline', 'state_changed_at', 'created_at',\n",
       "       'launched_at', 'staff_pick', 'is_starrable', 'backers_count',\n",
       "       'static_usd_rate', 'usd_pledged', 'creator', 'location', 'category',\n",
       "       'profile', 'spotlight', 'urls', 'source_url', 'friends', 'is_starred',\n",
       "       'is_backing', 'permissions'],\n",
       "      dtype='object')"
      ]
     },
     "execution_count": 3,
     "metadata": {},
     "output_type": "execute_result"
    }
   ],
   "source": [
    "# Get a list of all of our columns for easy reference\n",
    "kickstarter_df.columns\n"
   ]
  },
  {
   "cell_type": "code",
   "execution_count": 4,
   "metadata": {
    "scrolled": true
   },
   "outputs": [
    {
     "data": {
      "text/html": [
       "<div>\n",
       "<style scoped>\n",
       "    .dataframe tbody tr th:only-of-type {\n",
       "        vertical-align: middle;\n",
       "    }\n",
       "\n",
       "    .dataframe tbody tr th {\n",
       "        vertical-align: top;\n",
       "    }\n",
       "\n",
       "    .dataframe thead th {\n",
       "        text-align: right;\n",
       "    }\n",
       "</style>\n",
       "<table border=\"1\" class=\"dataframe\">\n",
       "  <thead>\n",
       "    <tr style=\"text-align: right;\">\n",
       "      <th></th>\n",
       "      <th>name</th>\n",
       "      <th>goal</th>\n",
       "      <th>pledged</th>\n",
       "      <th>state</th>\n",
       "      <th>country</th>\n",
       "      <th>staff_pick</th>\n",
       "      <th>backers_count</th>\n",
       "      <th>spotlight</th>\n",
       "    </tr>\n",
       "  </thead>\n",
       "  <tbody>\n",
       "    <tr>\n",
       "      <td>0</td>\n",
       "      <td>The Class Act Players Theatre Company Presents...</td>\n",
       "      <td>1500.0</td>\n",
       "      <td>2925.0</td>\n",
       "      <td>successful</td>\n",
       "      <td>US</td>\n",
       "      <td>False</td>\n",
       "      <td>17</td>\n",
       "      <td>True</td>\n",
       "    </tr>\n",
       "    <tr>\n",
       "      <td>1</td>\n",
       "      <td>MR INCREDIBLE by Camilla Whitehill - VAULT Fes...</td>\n",
       "      <td>2500.0</td>\n",
       "      <td>2936.0</td>\n",
       "      <td>successful</td>\n",
       "      <td>GB</td>\n",
       "      <td>True</td>\n",
       "      <td>15</td>\n",
       "      <td>True</td>\n",
       "    </tr>\n",
       "    <tr>\n",
       "      <td>2</td>\n",
       "      <td>RUN</td>\n",
       "      <td>1000.0</td>\n",
       "      <td>1200.0</td>\n",
       "      <td>successful</td>\n",
       "      <td>GB</td>\n",
       "      <td>False</td>\n",
       "      <td>30</td>\n",
       "      <td>True</td>\n",
       "    </tr>\n",
       "    <tr>\n",
       "      <td>3</td>\n",
       "      <td>9th International Meeting of Youth Theatre sap...</td>\n",
       "      <td>2000.0</td>\n",
       "      <td>2135.0</td>\n",
       "      <td>successful</td>\n",
       "      <td>IT</td>\n",
       "      <td>False</td>\n",
       "      <td>24</td>\n",
       "      <td>True</td>\n",
       "    </tr>\n",
       "    <tr>\n",
       "      <td>4</td>\n",
       "      <td>Get Conti to the Ed Fringe!</td>\n",
       "      <td>1000.0</td>\n",
       "      <td>1250.0</td>\n",
       "      <td>successful</td>\n",
       "      <td>GB</td>\n",
       "      <td>False</td>\n",
       "      <td>28</td>\n",
       "      <td>True</td>\n",
       "    </tr>\n",
       "  </tbody>\n",
       "</table>\n",
       "</div>"
      ],
      "text/plain": [
       "                                                name    goal  pledged  \\\n",
       "0  The Class Act Players Theatre Company Presents...  1500.0   2925.0   \n",
       "1  MR INCREDIBLE by Camilla Whitehill - VAULT Fes...  2500.0   2936.0   \n",
       "2                                                RUN  1000.0   1200.0   \n",
       "3  9th International Meeting of Youth Theatre sap...  2000.0   2135.0   \n",
       "4                        Get Conti to the Ed Fringe!  1000.0   1250.0   \n",
       "\n",
       "        state country  staff_pick  backers_count  spotlight  \n",
       "0  successful      US       False             17       True  \n",
       "1  successful      GB        True             15       True  \n",
       "2  successful      GB       False             30       True  \n",
       "3  successful      IT       False             24       True  \n",
       "4  successful      GB       False             28       True  "
      ]
     },
     "execution_count": 4,
     "metadata": {},
     "output_type": "execute_result"
    }
   ],
   "source": [
    "# Extract \"name\", \"goal\", \"pledged\", \"state\", \"country\", \"staff_pick\",\n",
    "# \"backers_count\", and \"spotlight\"\n",
    "kickstarter_filtered = kickstarter_df[['name','goal','pledged','state','country','staff_pick','backers_count','spotlight']]\n",
    "kickstarter_filtered.head()"
   ]
  },
  {
   "cell_type": "code",
   "execution_count": 5,
   "metadata": {
    "scrolled": true
   },
   "outputs": [
    {
     "data": {
      "text/plain": [
       "1.0"
      ]
     },
     "execution_count": 5,
     "metadata": {},
     "output_type": "execute_result"
    }
   ],
   "source": [
    "# Remove projects that made no money at all\n",
    "kickstarter_filtered = kickstarter_filtered.loc[kickstarter_filtered['pledged'] > 0,:]\n",
    "kickstarter_filtered['pledged'].min()"
   ]
  },
  {
   "cell_type": "code",
   "execution_count": 6,
   "metadata": {
    "scrolled": true
   },
   "outputs": [
    {
     "data": {
      "text/plain": [
       "['name',\n",
       " 'goal',\n",
       " 'pledged',\n",
       " 'state',\n",
       " 'country',\n",
       " 'staff_pick',\n",
       " 'backers_count',\n",
       " 'spotlight']"
      ]
     },
     "execution_count": 6,
     "metadata": {},
     "output_type": "execute_result"
    }
   ],
   "source": [
    "# Collect only those projects that were hosted in the US\n",
    "kickstarter_us = kickstarter_filtered.loc[kickstarter_filtered['country'] == 'US',:]\n",
    "kickstarter_us.head()\n",
    "# Create a list of the columns\n",
    "list(kickstarter_us.columns)\n",
    "# Create a new df for \"US\" with the columns above. \n",
    "#did that above"
   ]
  },
  {
   "cell_type": "code",
   "execution_count": 7,
   "metadata": {},
   "outputs": [
    {
     "name": "stderr",
     "output_type": "stream",
     "text": [
      "C:\\Users\\Adrianna\\Anaconda3\\lib\\site-packages\\ipykernel_launcher.py:2: SettingWithCopyWarning: \n",
      "A value is trying to be set on a copy of a slice from a DataFrame.\n",
      "Try using .loc[row_indexer,col_indexer] = value instead\n",
      "\n",
      "See the caveats in the documentation: http://pandas.pydata.org/pandas-docs/stable/user_guide/indexing.html#returning-a-view-versus-a-copy\n",
      "  \n"
     ]
    },
    {
     "data": {
      "text/html": [
       "<div>\n",
       "<style scoped>\n",
       "    .dataframe tbody tr th:only-of-type {\n",
       "        vertical-align: middle;\n",
       "    }\n",
       "\n",
       "    .dataframe tbody tr th {\n",
       "        vertical-align: top;\n",
       "    }\n",
       "\n",
       "    .dataframe thead th {\n",
       "        text-align: right;\n",
       "    }\n",
       "</style>\n",
       "<table border=\"1\" class=\"dataframe\">\n",
       "  <thead>\n",
       "    <tr style=\"text-align: right;\">\n",
       "      <th></th>\n",
       "      <th>name</th>\n",
       "      <th>goal</th>\n",
       "      <th>pledged</th>\n",
       "      <th>state</th>\n",
       "      <th>country</th>\n",
       "      <th>staff_pick</th>\n",
       "      <th>backers_count</th>\n",
       "      <th>spotlight</th>\n",
       "      <th>Average Pledged</th>\n",
       "    </tr>\n",
       "  </thead>\n",
       "  <tbody>\n",
       "    <tr>\n",
       "      <td>0</td>\n",
       "      <td>The Class Act Players Theatre Company Presents...</td>\n",
       "      <td>1500.0</td>\n",
       "      <td>2925.0</td>\n",
       "      <td>successful</td>\n",
       "      <td>US</td>\n",
       "      <td>False</td>\n",
       "      <td>17</td>\n",
       "      <td>True</td>\n",
       "      <td>172.058824</td>\n",
       "    </tr>\n",
       "    <tr>\n",
       "      <td>8</td>\n",
       "      <td>Forefront Festival 2015</td>\n",
       "      <td>7200.0</td>\n",
       "      <td>7230.0</td>\n",
       "      <td>successful</td>\n",
       "      <td>US</td>\n",
       "      <td>False</td>\n",
       "      <td>68</td>\n",
       "      <td>True</td>\n",
       "      <td>106.323529</td>\n",
       "    </tr>\n",
       "    <tr>\n",
       "      <td>11</td>\n",
       "      <td>Hamlet the Hip-Hopera</td>\n",
       "      <td>9747.0</td>\n",
       "      <td>10103.0</td>\n",
       "      <td>successful</td>\n",
       "      <td>US</td>\n",
       "      <td>True</td>\n",
       "      <td>132</td>\n",
       "      <td>True</td>\n",
       "      <td>76.537879</td>\n",
       "    </tr>\n",
       "    <tr>\n",
       "      <td>14</td>\n",
       "      <td>Pride Con</td>\n",
       "      <td>15000.0</td>\n",
       "      <td>15110.0</td>\n",
       "      <td>successful</td>\n",
       "      <td>US</td>\n",
       "      <td>False</td>\n",
       "      <td>60</td>\n",
       "      <td>True</td>\n",
       "      <td>251.833333</td>\n",
       "    </tr>\n",
       "    <tr>\n",
       "      <td>15</td>\n",
       "      <td>En Garde Arts Emerging Artists Festival BOSSS</td>\n",
       "      <td>10000.0</td>\n",
       "      <td>10306.0</td>\n",
       "      <td>successful</td>\n",
       "      <td>US</td>\n",
       "      <td>True</td>\n",
       "      <td>80</td>\n",
       "      <td>True</td>\n",
       "      <td>128.825000</td>\n",
       "    </tr>\n",
       "  </tbody>\n",
       "</table>\n",
       "</div>"
      ],
      "text/plain": [
       "                                                 name     goal  pledged  \\\n",
       "0   The Class Act Players Theatre Company Presents...   1500.0   2925.0   \n",
       "8                             Forefront Festival 2015   7200.0   7230.0   \n",
       "11                              Hamlet the Hip-Hopera   9747.0  10103.0   \n",
       "14                                          Pride Con  15000.0  15110.0   \n",
       "15      En Garde Arts Emerging Artists Festival BOSSS  10000.0  10306.0   \n",
       "\n",
       "         state country  staff_pick  backers_count  spotlight  Average Pledged  \n",
       "0   successful      US       False             17       True       172.058824  \n",
       "8   successful      US       False             68       True       106.323529  \n",
       "11  successful      US        True            132       True        76.537879  \n",
       "14  successful      US       False             60       True       251.833333  \n",
       "15  successful      US        True             80       True       128.825000  "
      ]
     },
     "execution_count": 7,
     "metadata": {},
     "output_type": "execute_result"
    }
   ],
   "source": [
    "# Create a new column that finds the average amount pledged to a project\n",
    "kickstarter_us['Average Pledged'] = kickstarter_us['pledged']/kickstarter_us['backers_count']\n",
    "kickstarter_us.head()"
   ]
  },
  {
   "cell_type": "code",
   "execution_count": 8,
   "metadata": {},
   "outputs": [
    {
     "name": "stderr",
     "output_type": "stream",
     "text": [
      "C:\\Users\\Adrianna\\Anaconda3\\lib\\site-packages\\ipykernel_launcher.py:4: SettingWithCopyWarning: \n",
      "A value is trying to be set on a copy of a slice from a DataFrame.\n",
      "Try using .loc[row_indexer,col_indexer] = value instead\n",
      "\n",
      "See the caveats in the documentation: http://pandas.pydata.org/pandas-docs/stable/user_guide/indexing.html#returning-a-view-versus-a-copy\n",
      "  after removing the cwd from sys.path.\n",
      "C:\\Users\\Adrianna\\Anaconda3\\lib\\site-packages\\ipykernel_launcher.py:5: SettingWithCopyWarning: \n",
      "A value is trying to be set on a copy of a slice from a DataFrame.\n",
      "Try using .loc[row_indexer,col_indexer] = value instead\n",
      "\n",
      "See the caveats in the documentation: http://pandas.pydata.org/pandas-docs/stable/user_guide/indexing.html#returning-a-view-versus-a-copy\n",
      "  \"\"\"\n",
      "C:\\Users\\Adrianna\\Anaconda3\\lib\\site-packages\\ipykernel_launcher.py:6: SettingWithCopyWarning: \n",
      "A value is trying to be set on a copy of a slice from a DataFrame.\n",
      "Try using .loc[row_indexer,col_indexer] = value instead\n",
      "\n",
      "See the caveats in the documentation: http://pandas.pydata.org/pandas-docs/stable/user_guide/indexing.html#returning-a-view-versus-a-copy\n",
      "  \n"
     ]
    },
    {
     "data": {
      "text/html": [
       "<div>\n",
       "<style scoped>\n",
       "    .dataframe tbody tr th:only-of-type {\n",
       "        vertical-align: middle;\n",
       "    }\n",
       "\n",
       "    .dataframe tbody tr th {\n",
       "        vertical-align: top;\n",
       "    }\n",
       "\n",
       "    .dataframe thead th {\n",
       "        text-align: right;\n",
       "    }\n",
       "</style>\n",
       "<table border=\"1\" class=\"dataframe\">\n",
       "  <thead>\n",
       "    <tr style=\"text-align: right;\">\n",
       "      <th></th>\n",
       "      <th>name</th>\n",
       "      <th>goal</th>\n",
       "      <th>pledged</th>\n",
       "      <th>state</th>\n",
       "      <th>country</th>\n",
       "      <th>staff_pick</th>\n",
       "      <th>backers_count</th>\n",
       "      <th>spotlight</th>\n",
       "      <th>Average Pledged</th>\n",
       "    </tr>\n",
       "  </thead>\n",
       "  <tbody>\n",
       "    <tr>\n",
       "      <td>0</td>\n",
       "      <td>The Class Act Players Theatre Company Presents...</td>\n",
       "      <td>$1,500.00</td>\n",
       "      <td>$2,925.00</td>\n",
       "      <td>successful</td>\n",
       "      <td>US</td>\n",
       "      <td>False</td>\n",
       "      <td>17</td>\n",
       "      <td>True</td>\n",
       "      <td>$172.06</td>\n",
       "    </tr>\n",
       "    <tr>\n",
       "      <td>8</td>\n",
       "      <td>Forefront Festival 2015</td>\n",
       "      <td>$7,200.00</td>\n",
       "      <td>$7,230.00</td>\n",
       "      <td>successful</td>\n",
       "      <td>US</td>\n",
       "      <td>False</td>\n",
       "      <td>68</td>\n",
       "      <td>True</td>\n",
       "      <td>$106.32</td>\n",
       "    </tr>\n",
       "    <tr>\n",
       "      <td>11</td>\n",
       "      <td>Hamlet the Hip-Hopera</td>\n",
       "      <td>$9,747.00</td>\n",
       "      <td>$10,103.00</td>\n",
       "      <td>successful</td>\n",
       "      <td>US</td>\n",
       "      <td>True</td>\n",
       "      <td>132</td>\n",
       "      <td>True</td>\n",
       "      <td>$76.54</td>\n",
       "    </tr>\n",
       "    <tr>\n",
       "      <td>14</td>\n",
       "      <td>Pride Con</td>\n",
       "      <td>$15,000.00</td>\n",
       "      <td>$15,110.00</td>\n",
       "      <td>successful</td>\n",
       "      <td>US</td>\n",
       "      <td>False</td>\n",
       "      <td>60</td>\n",
       "      <td>True</td>\n",
       "      <td>$251.83</td>\n",
       "    </tr>\n",
       "    <tr>\n",
       "      <td>15</td>\n",
       "      <td>En Garde Arts Emerging Artists Festival BOSSS</td>\n",
       "      <td>$10,000.00</td>\n",
       "      <td>$10,306.00</td>\n",
       "      <td>successful</td>\n",
       "      <td>US</td>\n",
       "      <td>True</td>\n",
       "      <td>80</td>\n",
       "      <td>True</td>\n",
       "      <td>$128.82</td>\n",
       "    </tr>\n",
       "  </tbody>\n",
       "</table>\n",
       "</div>"
      ],
      "text/plain": [
       "                                                 name        goal     pledged  \\\n",
       "0   The Class Act Players Theatre Company Presents...   $1,500.00   $2,925.00   \n",
       "8                             Forefront Festival 2015   $7,200.00   $7,230.00   \n",
       "11                              Hamlet the Hip-Hopera   $9,747.00  $10,103.00   \n",
       "14                                          Pride Con  $15,000.00  $15,110.00   \n",
       "15      En Garde Arts Emerging Artists Festival BOSSS  $10,000.00  $10,306.00   \n",
       "\n",
       "         state country  staff_pick  backers_count  spotlight Average Pledged  \n",
       "0   successful      US       False             17       True         $172.06  \n",
       "8   successful      US       False             68       True         $106.32  \n",
       "11  successful      US        True            132       True          $76.54  \n",
       "14  successful      US       False             60       True         $251.83  \n",
       "15  successful      US        True             80       True         $128.82  "
      ]
     },
     "execution_count": 8,
     "metadata": {},
     "output_type": "execute_result"
    }
   ],
   "source": [
    "# First convert \"average_donation\", \"goal\", and \"pledged\" columns to float\n",
    "# Then Format to go to two decimal places, include a dollar sign, and use comma notation\n",
    "#kickstarter_us['Average Pledged','goal','pledged'].astype(float)\n",
    "kickstarter_us['Average Pledged']=kickstarter_us['Average Pledged'].map('${:,.2f}'.format)\n",
    "kickstarter_us['goal']=kickstarter_us['goal'].map('${:,.2f}'.format)\n",
    "kickstarter_us['pledged']=kickstarter_us['pledged'].map('${:,.2f}'.format)\n",
    "kickstarter_us.head()"
   ]
  },
  {
   "cell_type": "code",
   "execution_count": 9,
   "metadata": {},
   "outputs": [
    {
     "data": {
      "text/plain": [
       "89273"
      ]
     },
     "execution_count": 9,
     "metadata": {},
     "output_type": "execute_result"
    }
   ],
   "source": [
    "# Calculate the total number of backers for all US projects\n",
    "kickstarter_us['backers_count'].sum()"
   ]
  },
  {
   "cell_type": "code",
   "execution_count": 10,
   "metadata": {},
   "outputs": [
    {
     "data": {
      "text/plain": [
       "41.931892907468296"
      ]
     },
     "execution_count": 10,
     "metadata": {},
     "output_type": "execute_result"
    }
   ],
   "source": [
    "# Calculate the average number of backers for all US projects\n",
    "kickstarter_avg_backers = kickstarter_us['backers_count'].sum() / kickstarter_us['backers_count'].count()\n",
    "kickstarter_avg_backers"
   ]
  },
  {
   "cell_type": "code",
   "execution_count": 11,
   "metadata": {
    "scrolled": true
   },
   "outputs": [
    {
     "data": {
      "text/html": [
       "<div>\n",
       "<style scoped>\n",
       "    .dataframe tbody tr th:only-of-type {\n",
       "        vertical-align: middle;\n",
       "    }\n",
       "\n",
       "    .dataframe tbody tr th {\n",
       "        vertical-align: top;\n",
       "    }\n",
       "\n",
       "    .dataframe thead th {\n",
       "        text-align: right;\n",
       "    }\n",
       "</style>\n",
       "<table border=\"1\" class=\"dataframe\">\n",
       "  <thead>\n",
       "    <tr style=\"text-align: right;\">\n",
       "      <th></th>\n",
       "      <th>name</th>\n",
       "      <th>goal</th>\n",
       "      <th>pledged</th>\n",
       "      <th>state</th>\n",
       "      <th>country</th>\n",
       "      <th>staff_pick</th>\n",
       "      <th>backers_count</th>\n",
       "      <th>spotlight</th>\n",
       "      <th>Average Pledged</th>\n",
       "    </tr>\n",
       "  </thead>\n",
       "  <tbody>\n",
       "    <tr>\n",
       "      <td>11</td>\n",
       "      <td>Hamlet the Hip-Hopera</td>\n",
       "      <td>$9,747.00</td>\n",
       "      <td>$10,103.00</td>\n",
       "      <td>successful</td>\n",
       "      <td>US</td>\n",
       "      <td>True</td>\n",
       "      <td>132</td>\n",
       "      <td>True</td>\n",
       "      <td>$76.54</td>\n",
       "    </tr>\n",
       "    <tr>\n",
       "      <td>15</td>\n",
       "      <td>En Garde Arts Emerging Artists Festival BOSSS</td>\n",
       "      <td>$10,000.00</td>\n",
       "      <td>$10,306.00</td>\n",
       "      <td>successful</td>\n",
       "      <td>US</td>\n",
       "      <td>True</td>\n",
       "      <td>80</td>\n",
       "      <td>True</td>\n",
       "      <td>$128.82</td>\n",
       "    </tr>\n",
       "    <tr>\n",
       "      <td>39</td>\n",
       "      <td>\"Poor People\" at FringeNYC 2015</td>\n",
       "      <td>$5,500.00</td>\n",
       "      <td>$5,682.00</td>\n",
       "      <td>successful</td>\n",
       "      <td>US</td>\n",
       "      <td>True</td>\n",
       "      <td>34</td>\n",
       "      <td>True</td>\n",
       "      <td>$167.12</td>\n",
       "    </tr>\n",
       "    <tr>\n",
       "      <td>44</td>\n",
       "      <td>Queen Mab's Steampunk and Fairie Street Festival</td>\n",
       "      <td>$1,300.00</td>\n",
       "      <td>$3,363.00</td>\n",
       "      <td>successful</td>\n",
       "      <td>US</td>\n",
       "      <td>True</td>\n",
       "      <td>62</td>\n",
       "      <td>True</td>\n",
       "      <td>$54.24</td>\n",
       "    </tr>\n",
       "    <tr>\n",
       "      <td>45</td>\n",
       "      <td>RAFT: a new play by Emily Kitchens</td>\n",
       "      <td>$7,500.00</td>\n",
       "      <td>$7,826.00</td>\n",
       "      <td>successful</td>\n",
       "      <td>US</td>\n",
       "      <td>True</td>\n",
       "      <td>120</td>\n",
       "      <td>True</td>\n",
       "      <td>$65.22</td>\n",
       "    </tr>\n",
       "  </tbody>\n",
       "</table>\n",
       "</div>"
      ],
      "text/plain": [
       "                                                name        goal     pledged  \\\n",
       "11                             Hamlet the Hip-Hopera   $9,747.00  $10,103.00   \n",
       "15     En Garde Arts Emerging Artists Festival BOSSS  $10,000.00  $10,306.00   \n",
       "39                   \"Poor People\" at FringeNYC 2015   $5,500.00   $5,682.00   \n",
       "44  Queen Mab's Steampunk and Fairie Street Festival   $1,300.00   $3,363.00   \n",
       "45                RAFT: a new play by Emily Kitchens   $7,500.00   $7,826.00   \n",
       "\n",
       "         state country  staff_pick  backers_count  spotlight Average Pledged  \n",
       "11  successful      US        True            132       True          $76.54  \n",
       "15  successful      US        True             80       True         $128.82  \n",
       "39  successful      US        True             34       True         $167.12  \n",
       "44  successful      US        True             62       True          $54.24  \n",
       "45  successful      US        True            120       True          $65.22  "
      ]
     },
     "execution_count": 11,
     "metadata": {},
     "output_type": "execute_result"
    }
   ],
   "source": [
    "# Collect only those US campaigns that have been picked as a \"Staff Pick\"\n",
    "kickstarter_us_picks=kickstarter_us.loc[kickstarter_us['staff_pick']==True,:]\n",
    "kickstarter_us_picks.head()"
   ]
  },
  {
   "cell_type": "code",
   "execution_count": 21,
   "metadata": {},
   "outputs": [
    {
     "data": {
      "text/plain": [
       "state\n",
       "canceled       216\n",
       "failed        1123\n",
       "live            13\n",
       "successful     775\n",
       "suspended        2\n",
       "Name: name, dtype: int64"
      ]
     },
     "execution_count": 21,
     "metadata": {},
     "output_type": "execute_result"
    }
   ],
   "source": [
    "# Group by the state of the campaigns and see if staff picks matter (Seems to matter quite a bit)\n",
    "kickstarter_us_state = kickstarter_us.groupby('state')\n",
    "kickstarter_us_state['name'].count()"
   ]
  },
  {
   "cell_type": "code",
   "execution_count": 22,
   "metadata": {},
   "outputs": [
    {
     "data": {
      "text/plain": [
       "state\n",
       "canceled        6\n",
       "failed         21\n",
       "live            2\n",
       "successful    145\n",
       "Name: name, dtype: int64"
      ]
     },
     "execution_count": 22,
     "metadata": {},
     "output_type": "execute_result"
    }
   ],
   "source": [
    "kickstarter_us_state_picked = kickstarter_us_picks.groupby('state')\n",
    "kickstarter_us_state_picked['name'].count()"
   ]
  },
  {
   "cell_type": "code",
   "execution_count": null,
   "metadata": {},
   "outputs": [],
   "source": []
  }
 ],
 "metadata": {
  "kernelspec": {
   "display_name": "Python 3",
   "language": "python",
   "name": "python3"
  },
  "language_info": {
   "codemirror_mode": {
    "name": "ipython",
    "version": 3
   },
   "file_extension": ".py",
   "mimetype": "text/x-python",
   "name": "python",
   "nbconvert_exporter": "python",
   "pygments_lexer": "ipython3",
   "version": "3.7.4"
  }
 },
 "nbformat": 4,
 "nbformat_minor": 2
}
