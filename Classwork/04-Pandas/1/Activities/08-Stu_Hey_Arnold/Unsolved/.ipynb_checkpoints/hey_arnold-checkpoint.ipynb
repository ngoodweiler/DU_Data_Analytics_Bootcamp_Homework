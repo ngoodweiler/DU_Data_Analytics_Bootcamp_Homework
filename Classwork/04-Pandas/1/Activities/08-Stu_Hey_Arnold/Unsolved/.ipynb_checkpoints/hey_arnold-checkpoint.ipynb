{
 "cells": [
  {
   "cell_type": "code",
   "execution_count": 65,
   "metadata": {},
   "outputs": [],
   "source": [
    "# import dependencies\n",
    "import pandas as pd"
   ]
  },
  {
   "cell_type": "code",
   "execution_count": 66,
   "metadata": {},
   "outputs": [
    {
     "data": {
      "text/html": [
       "<div>\n",
       "<style scoped>\n",
       "    .dataframe tbody tr th:only-of-type {\n",
       "        vertical-align: middle;\n",
       "    }\n",
       "\n",
       "    .dataframe tbody tr th {\n",
       "        vertical-align: top;\n",
       "    }\n",
       "\n",
       "    .dataframe thead th {\n",
       "        text-align: right;\n",
       "    }\n",
       "</style>\n",
       "<table border=\"1\" class=\"dataframe\">\n",
       "  <thead>\n",
       "    <tr style=\"text-align: right;\">\n",
       "      <th></th>\n",
       "      <th>Character_in_show</th>\n",
       "      <th>color_of_hair</th>\n",
       "      <th>Height</th>\n",
       "      <th>Football_Shaped_Head</th>\n",
       "    </tr>\n",
       "  </thead>\n",
       "  <tbody>\n",
       "    <tr>\n",
       "      <td>0</td>\n",
       "      <td>Arnold</td>\n",
       "      <td>blonde</td>\n",
       "      <td>average</td>\n",
       "      <td>True</td>\n",
       "    </tr>\n",
       "    <tr>\n",
       "      <td>1</td>\n",
       "      <td>Gerald</td>\n",
       "      <td>black</td>\n",
       "      <td>tallish</td>\n",
       "      <td>False</td>\n",
       "    </tr>\n",
       "    <tr>\n",
       "      <td>2</td>\n",
       "      <td>Helga</td>\n",
       "      <td>blonde</td>\n",
       "      <td>tallish</td>\n",
       "      <td>False</td>\n",
       "    </tr>\n",
       "    <tr>\n",
       "      <td>3</td>\n",
       "      <td>Phoebe</td>\n",
       "      <td>black</td>\n",
       "      <td>short</td>\n",
       "      <td>False</td>\n",
       "    </tr>\n",
       "    <tr>\n",
       "      <td>4</td>\n",
       "      <td>Harold</td>\n",
       "      <td>unknown</td>\n",
       "      <td>tall</td>\n",
       "      <td>False</td>\n",
       "    </tr>\n",
       "    <tr>\n",
       "      <td>5</td>\n",
       "      <td>Eugene</td>\n",
       "      <td>red</td>\n",
       "      <td>short</td>\n",
       "      <td>False</td>\n",
       "    </tr>\n",
       "  </tbody>\n",
       "</table>\n",
       "</div>"
      ],
      "text/plain": [
       "  Character_in_show color_of_hair   Height  Football_Shaped_Head\n",
       "0            Arnold        blonde  average                  True\n",
       "1            Gerald         black  tallish                 False\n",
       "2             Helga        blonde  tallish                 False\n",
       "3            Phoebe         black    short                 False\n",
       "4            Harold       unknown     tall                 False\n",
       "5            Eugene           red    short                 False"
      ]
     },
     "execution_count": 66,
     "metadata": {},
     "output_type": "execute_result"
    }
   ],
   "source": [
    "# Create a data frame with given columns and value\n",
    "hey_arnold = pd.DataFrame(\n",
    "    {\"Character_in_show\": [\"Arnold\", \"Gerald\", \"Helga\", \"Phoebe\", \"Harold\", \"Eugene\"],\n",
    "     \"color_of_hair\": [\"blonde\", \"black\", \"blonde\", \"black\", \"unknown\", \"red\"],\n",
    "     \"Height\": [\"average\", \"tallish\", \"tallish\", \"short\", \"tall\", \"short\"],\n",
    "     \"Football_Shaped_Head\": [True, False, False, False, False, False]\n",
    "     })\n",
    "\n",
    "hey_arnold"
   ]
  },
  {
   "cell_type": "code",
   "execution_count": 67,
   "metadata": {},
   "outputs": [
    {
     "data": {
      "text/plain": [
       "<bound method NDFrame.head of   Character Hair Color   Height  Football Head\n",
       "0    Arnold     blonde  average           True\n",
       "1    Gerald      black  tallish          False\n",
       "2     Helga     blonde  tallish          False\n",
       "3    Phoebe      black    short          False\n",
       "4    Harold    unknown     tall          False\n",
       "5    Eugene        red    short          False>"
      ]
     },
     "execution_count": 67,
     "metadata": {},
     "output_type": "execute_result"
    }
   ],
   "source": [
    "# Rename columns to clean up the look\n",
    "renamed_df = hey_arnold.rename(columns = {\n",
    "    \"Character_in_show\":\"Character\",\n",
    "    \"color_of_hair\":\"Hair Color\",\n",
    "    \"Height\":\"Height\",\n",
    "    \"Football_Shaped_Head\":\"Football Head\"})\n",
    "renamed_df.head"
   ]
  },
  {
   "cell_type": "code",
   "execution_count": 68,
   "metadata": {},
   "outputs": [],
   "source": [
    "# Organize columns into a more logical order"
   ]
  },
  {
   "cell_type": "code",
   "execution_count": 69,
   "metadata": {},
   "outputs": [
    {
     "ename": "ValueError",
     "evalue": "For argument \"inplace\" expected type bool, received type str.",
     "output_type": "error",
     "traceback": [
      "\u001b[1;31m---------------------------------------------------------------------------\u001b[0m",
      "\u001b[1;31mValueError\u001b[0m                                Traceback (most recent call last)",
      "\u001b[1;32m<ipython-input-69-97441ac28d0b>\u001b[0m in \u001b[0;36m<module>\u001b[1;34m\u001b[0m\n\u001b[1;32m----> 1\u001b[1;33m \u001b[0mrenamed_df\u001b[0m\u001b[1;33m.\u001b[0m\u001b[0mset_index\u001b[0m\u001b[1;33m(\u001b[0m\u001b[1;34m\"Character\"\u001b[0m\u001b[1;33m,\u001b[0m\u001b[1;34m\"Football Head\"\u001b[0m\u001b[1;33m,\u001b[0m\u001b[1;34m\"Hair Color\"\u001b[0m\u001b[1;33m,\u001b[0m\u001b[1;34m\"Height\"\u001b[0m\u001b[1;33m)\u001b[0m\u001b[1;33m\u001b[0m\u001b[1;33m\u001b[0m\u001b[0m\n\u001b[0m\u001b[0;32m      2\u001b[0m \u001b[0mrenamed_df\u001b[0m\u001b[1;33m.\u001b[0m\u001b[0mhead\u001b[0m\u001b[1;33m\u001b[0m\u001b[1;33m\u001b[0m\u001b[0m\n",
      "\u001b[1;32m~\\Anaconda3\\lib\\site-packages\\pandas\\core\\frame.py\u001b[0m in \u001b[0;36mset_index\u001b[1;34m(self, keys, drop, append, inplace, verify_integrity)\u001b[0m\n\u001b[0;32m   4362\u001b[0m         \u001b[1;36m4\u001b[0m \u001b[1;36m16\u001b[0m     \u001b[1;36m10\u001b[0m  \u001b[1;36m2014\u001b[0m    \u001b[1;36m31\u001b[0m\u001b[1;33m\u001b[0m\u001b[1;33m\u001b[0m\u001b[0m\n\u001b[0;32m   4363\u001b[0m         \"\"\"\n\u001b[1;32m-> 4364\u001b[1;33m         \u001b[0minplace\u001b[0m \u001b[1;33m=\u001b[0m \u001b[0mvalidate_bool_kwarg\u001b[0m\u001b[1;33m(\u001b[0m\u001b[0minplace\u001b[0m\u001b[1;33m,\u001b[0m \u001b[1;34m\"inplace\"\u001b[0m\u001b[1;33m)\u001b[0m\u001b[1;33m\u001b[0m\u001b[1;33m\u001b[0m\u001b[0m\n\u001b[0m\u001b[0;32m   4365\u001b[0m         \u001b[1;32mif\u001b[0m \u001b[1;32mnot\u001b[0m \u001b[0misinstance\u001b[0m\u001b[1;33m(\u001b[0m\u001b[0mkeys\u001b[0m\u001b[1;33m,\u001b[0m \u001b[0mlist\u001b[0m\u001b[1;33m)\u001b[0m\u001b[1;33m:\u001b[0m\u001b[1;33m\u001b[0m\u001b[1;33m\u001b[0m\u001b[0m\n\u001b[0;32m   4366\u001b[0m             \u001b[0mkeys\u001b[0m \u001b[1;33m=\u001b[0m \u001b[1;33m[\u001b[0m\u001b[0mkeys\u001b[0m\u001b[1;33m]\u001b[0m\u001b[1;33m\u001b[0m\u001b[1;33m\u001b[0m\u001b[0m\n",
      "\u001b[1;32m~\\Anaconda3\\lib\\site-packages\\pandas\\util\\_validators.py\u001b[0m in \u001b[0;36mvalidate_bool_kwarg\u001b[1;34m(value, arg_name)\u001b[0m\n\u001b[0;32m    234\u001b[0m         raise ValueError(\n\u001b[0;32m    235\u001b[0m             \u001b[1;34m'For argument \"{arg}\" expected type bool, received '\u001b[0m\u001b[1;33m\u001b[0m\u001b[1;33m\u001b[0m\u001b[0m\n\u001b[1;32m--> 236\u001b[1;33m             \u001b[1;34m\"type {typ}.\"\u001b[0m\u001b[1;33m.\u001b[0m\u001b[0mformat\u001b[0m\u001b[1;33m(\u001b[0m\u001b[0marg\u001b[0m\u001b[1;33m=\u001b[0m\u001b[0marg_name\u001b[0m\u001b[1;33m,\u001b[0m \u001b[0mtyp\u001b[0m\u001b[1;33m=\u001b[0m\u001b[0mtype\u001b[0m\u001b[1;33m(\u001b[0m\u001b[0mvalue\u001b[0m\u001b[1;33m)\u001b[0m\u001b[1;33m.\u001b[0m\u001b[0m__name__\u001b[0m\u001b[1;33m)\u001b[0m\u001b[1;33m\u001b[0m\u001b[1;33m\u001b[0m\u001b[0m\n\u001b[0m\u001b[0;32m    237\u001b[0m         )\n\u001b[0;32m    238\u001b[0m     \u001b[1;32mreturn\u001b[0m \u001b[0mvalue\u001b[0m\u001b[1;33m\u001b[0m\u001b[1;33m\u001b[0m\u001b[0m\n",
      "\u001b[1;31mValueError\u001b[0m: For argument \"inplace\" expected type bool, received type str."
     ]
    }
   ],
   "source": [
    "renamed_df.set_index(\"Character\",\"Football Head\",\"Hair Color\",\"Height\")\n",
    "renamed_df.head"
   ]
  }
 ],
 "metadata": {
  "kernel_info": {
   "name": "python3"
  },
  "kernelspec": {
   "display_name": "Python 3",
   "language": "python",
   "name": "python3"
  },
  "language_info": {
   "codemirror_mode": {
    "name": "ipython",
    "version": 3
   },
   "file_extension": ".py",
   "mimetype": "text/x-python",
   "name": "python",
   "nbconvert_exporter": "python",
   "pygments_lexer": "ipython3",
   "version": "3.7.4"
  },
  "nteract": {
   "version": "0.2.0"
  }
 },
 "nbformat": 4,
 "nbformat_minor": 4
}
