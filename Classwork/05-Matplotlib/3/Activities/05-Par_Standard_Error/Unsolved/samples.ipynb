{
 "cells": [
  {
   "cell_type": "code",
   "execution_count": 6,
   "metadata": {},
   "outputs": [],
   "source": [
    "# Dependencies\n",
    "from matplotlib import pyplot as plt\n",
    "import numpy as np\n",
    "import pandas as pd\n",
    "from sklearn.datasets import load_boston\n",
    "from scipy.stats import sem"
   ]
  },
  {
   "cell_type": "code",
   "execution_count": 7,
   "metadata": {},
   "outputs": [],
   "source": [
    "# Import the Boston housing data set from sklearn and get description\n",
    "boston_dataset = load_boston()"
   ]
  },
  {
   "cell_type": "code",
   "execution_count": 8,
   "metadata": {},
   "outputs": [],
   "source": [
    "# Read Boston housing data into a Pandas dataframe\n",
    "housing_data = pd.DataFrame(data=boston_dataset.data,columns=boston_dataset.feature_names)\n",
    "housing_data['MEDV'] = boston_dataset.target"
   ]
  },
  {
   "cell_type": "code",
   "execution_count": 15,
   "metadata": {},
   "outputs": [
    {
     "name": "stdout",
     "output_type": "stream",
     "text": [
      "1.9294770299735113\n"
     ]
    }
   ],
   "source": [
    "# Create a bunch of samples, each with sample size of 20\n",
    "sample = housing_data.sample(30)\n",
    "sample_set = [housing_data.sample(30) for x in range(0,10)]\n",
    "print(f'{sem(sample.MEDV)}')"
   ]
  },
  {
   "cell_type": "code",
   "execution_count": 16,
   "metadata": {},
   "outputs": [],
   "source": [
    "# Calculate standard error of means\n",
    "means = [sample.MEDV.mean() for sample in sample_set]\n",
    "standard_error = [sem(sample.MEDV) for sample in sample_set]\n",
    "x_axis = np.arange(0,len(sample_set),1)+1"
   ]
  },
  {
   "cell_type": "code",
   "execution_count": 25,
   "metadata": {},
   "outputs": [
    {
     "data": {
      "text/html": [
       "<div>\n",
       "<style scoped>\n",
       "    .dataframe tbody tr th:only-of-type {\n",
       "        vertical-align: middle;\n",
       "    }\n",
       "\n",
       "    .dataframe tbody tr th {\n",
       "        vertical-align: top;\n",
       "    }\n",
       "\n",
       "    .dataframe thead th {\n",
       "        text-align: right;\n",
       "    }\n",
       "</style>\n",
       "<table border=\"1\" class=\"dataframe\">\n",
       "  <thead>\n",
       "    <tr style=\"text-align: right;\">\n",
       "      <th></th>\n",
       "      <th>Means</th>\n",
       "      <th>SEM</th>\n",
       "      <th>Mean Difference</th>\n",
       "    </tr>\n",
       "  </thead>\n",
       "  <tbody>\n",
       "    <tr>\n",
       "      <td>0</td>\n",
       "      <td>25.693333</td>\n",
       "      <td>1.633295</td>\n",
       "      <td>3.160527</td>\n",
       "    </tr>\n",
       "    <tr>\n",
       "      <td>1</td>\n",
       "      <td>22.953333</td>\n",
       "      <td>1.716510</td>\n",
       "      <td>0.420527</td>\n",
       "    </tr>\n",
       "    <tr>\n",
       "      <td>2</td>\n",
       "      <td>22.530000</td>\n",
       "      <td>1.608198</td>\n",
       "      <td>-0.002806</td>\n",
       "    </tr>\n",
       "    <tr>\n",
       "      <td>3</td>\n",
       "      <td>21.463333</td>\n",
       "      <td>1.783349</td>\n",
       "      <td>-1.069473</td>\n",
       "    </tr>\n",
       "    <tr>\n",
       "      <td>4</td>\n",
       "      <td>22.783333</td>\n",
       "      <td>1.212702</td>\n",
       "      <td>0.250527</td>\n",
       "    </tr>\n",
       "    <tr>\n",
       "      <td>5</td>\n",
       "      <td>20.696667</td>\n",
       "      <td>1.397489</td>\n",
       "      <td>-1.836140</td>\n",
       "    </tr>\n",
       "    <tr>\n",
       "      <td>6</td>\n",
       "      <td>23.613333</td>\n",
       "      <td>1.665082</td>\n",
       "      <td>1.080527</td>\n",
       "    </tr>\n",
       "    <tr>\n",
       "      <td>7</td>\n",
       "      <td>21.846667</td>\n",
       "      <td>1.789861</td>\n",
       "      <td>-0.686140</td>\n",
       "    </tr>\n",
       "    <tr>\n",
       "      <td>8</td>\n",
       "      <td>21.073333</td>\n",
       "      <td>1.282239</td>\n",
       "      <td>-1.459473</td>\n",
       "    </tr>\n",
       "    <tr>\n",
       "      <td>9</td>\n",
       "      <td>18.070000</td>\n",
       "      <td>1.574730</td>\n",
       "      <td>-4.462806</td>\n",
       "    </tr>\n",
       "  </tbody>\n",
       "</table>\n",
       "</div>"
      ],
      "text/plain": [
       "       Means       SEM  Mean Difference\n",
       "0  25.693333  1.633295         3.160527\n",
       "1  22.953333  1.716510         0.420527\n",
       "2  22.530000  1.608198        -0.002806\n",
       "3  21.463333  1.783349        -1.069473\n",
       "4  22.783333  1.212702         0.250527\n",
       "5  20.696667  1.397489        -1.836140\n",
       "6  23.613333  1.665082         1.080527\n",
       "7  21.846667  1.789861        -0.686140\n",
       "8  21.073333  1.282239        -1.459473\n",
       "9  18.070000  1.574730        -4.462806"
      ]
     },
     "execution_count": 25,
     "metadata": {},
     "output_type": "execute_result"
    }
   ],
   "source": [
    "# Determine which sample's mean is closest to the population mean\n",
    "df = pd.DataFrame(list(zip(means,standard_error)),columns=['Means','SEM'])\n",
    "total_mean = housing_data['MEDV'].mean()\n",
    "df['Mean Difference'] = df['Means'] - total_mean\n",
    "df\n",
    "#sample #5 has lowest sem and a low difference"
   ]
  },
  {
   "cell_type": "code",
   "execution_count": 26,
   "metadata": {},
   "outputs": [
    {
     "data": {
      "text/plain": [
       "22.532806324110698"
      ]
     },
     "execution_count": 26,
     "metadata": {},
     "output_type": "execute_result"
    }
   ],
   "source": [
    "# Compare to the population mean\n",
    "total_mean"
   ]
  },
  {
   "cell_type": "code",
   "execution_count": 27,
   "metadata": {},
   "outputs": [
    {
     "data": {
      "image/png": "[encoded data removed]",
      "text/plain": [
       "<Figure size 432x288 with 1 Axes>"
      ]
     },
     "metadata": {
      "needs_background": "light"
     },
     "output_type": "display_data"
    }
   ],
   "source": [
    "# Plot sample means with error bars\n",
    "fig, ax=plt.subplots()\n",
    "ax.errorbar(x_axis,means,standard_error,fmt='o')\n",
    "ax.set_xlim(0,len(sample_set)+1)\n",
    "ax.set_ylim(17,30)\n",
    "plt.show()"
   ]
  },
  {
   "cell_type": "code",
   "execution_count": null,
   "metadata": {},
   "outputs": [],
   "source": []
  }
 ],
 "metadata": {
  "kernelspec": {
   "display_name": "Python 3",
   "language": "python",
   "name": "python3"
  },
  "language_info": {
   "codemirror_mode": {
    "name": "ipython",
    "version": 3
   },
   "file_extension": ".py",
   "mimetype": "text/x-python",
   "name": "python",
   "nbconvert_exporter": "python",
   "pygments_lexer": "ipython3",
   "version": "3.7.4"
  }
 },
 "nbformat": 4,
 "nbformat_minor": 2
}
