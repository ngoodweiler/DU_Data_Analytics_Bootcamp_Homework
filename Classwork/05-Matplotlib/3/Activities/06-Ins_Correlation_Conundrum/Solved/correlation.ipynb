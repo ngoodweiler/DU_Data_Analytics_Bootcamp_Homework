{
 "cells": [
  {
   "cell_type": "code",
   "execution_count": 1,
   "metadata": {},
   "outputs": [],
   "source": [
    "# Dependencies\n",
    "import pandas as pd\n",
    "import matplotlib.pyplot as plt\n",
    "import scipy.stats as st"
   ]
  },
  {
   "cell_type": "code",
   "execution_count": 2,
   "metadata": {},
   "outputs": [
    {
     "data": {
      "text/html": [
       "<div>\n",
       "<style scoped>\n",
       "    .dataframe tbody tr th:only-of-type {\n",
       "        vertical-align: middle;\n",
       "    }\n",
       "\n",
       "    .dataframe tbody tr th {\n",
       "        vertical-align: top;\n",
       "    }\n",
       "\n",
       "    .dataframe thead th {\n",
       "        text-align: right;\n",
       "    }\n",
       "</style>\n",
       "<table border=\"1\" class=\"dataframe\">\n",
       "  <thead>\n",
       "    <tr style=\"text-align: right;\">\n",
       "      <th></th>\n",
       "      <th>Country</th>\n",
       "      <th>Income_Per_Capita</th>\n",
       "      <th>Population (in thousands) total</th>\n",
       "      <th>Population_Median_Age</th>\n",
       "      <th>Percent_Population_over_60</th>\n",
       "      <th>Percent_Goverment_Expenditure_on_Health</th>\n",
       "      <th>Female_Life_Expectancy</th>\n",
       "      <th>Male_Life_Expectancy</th>\n",
       "      <th>Liters_of_Alcohol (Avg. Per year per person)</th>\n",
       "      <th>Percent_Population_Access_To_Clean_Water</th>\n",
       "      <th>Cell_phones_per_100_people</th>\n",
       "      <th>Cell_phones_total</th>\n",
       "      <th>Measles_immunization</th>\n",
       "    </tr>\n",
       "  </thead>\n",
       "  <tbody>\n",
       "    <tr>\n",
       "      <td>1</td>\n",
       "      <td>Albania</td>\n",
       "      <td>6000.0</td>\n",
       "      <td>3172.0</td>\n",
       "      <td>29.0</td>\n",
       "      <td>13.0</td>\n",
       "      <td>11.3</td>\n",
       "      <td>63.0</td>\n",
       "      <td>59.0</td>\n",
       "      <td>2.01</td>\n",
       "      <td>97.0</td>\n",
       "      <td>48.9</td>\n",
       "      <td>1100000.0</td>\n",
       "      <td>97.0</td>\n",
       "    </tr>\n",
       "    <tr>\n",
       "      <td>2</td>\n",
       "      <td>Algeria</td>\n",
       "      <td>5940.0</td>\n",
       "      <td>33351.0</td>\n",
       "      <td>24.0</td>\n",
       "      <td>7.0</td>\n",
       "      <td>9.5</td>\n",
       "      <td>62.0</td>\n",
       "      <td>60.0</td>\n",
       "      <td>0.15</td>\n",
       "      <td>85.0</td>\n",
       "      <td>41.5</td>\n",
       "      <td>4682690.0</td>\n",
       "      <td>83.0</td>\n",
       "    </tr>\n",
       "    <tr>\n",
       "      <td>4</td>\n",
       "      <td>Angola</td>\n",
       "      <td>3890.0</td>\n",
       "      <td>16557.0</td>\n",
       "      <td>17.0</td>\n",
       "      <td>4.0</td>\n",
       "      <td>5.0</td>\n",
       "      <td>35.0</td>\n",
       "      <td>32.0</td>\n",
       "      <td>3.86</td>\n",
       "      <td>51.0</td>\n",
       "      <td>10.3</td>\n",
       "      <td>940000.0</td>\n",
       "      <td>45.0</td>\n",
       "    </tr>\n",
       "    <tr>\n",
       "      <td>6</td>\n",
       "      <td>Argentina</td>\n",
       "      <td>11670.0</td>\n",
       "      <td>39134.0</td>\n",
       "      <td>29.0</td>\n",
       "      <td>14.0</td>\n",
       "      <td>14.2</td>\n",
       "      <td>68.0</td>\n",
       "      <td>62.0</td>\n",
       "      <td>8.40</td>\n",
       "      <td>96.0</td>\n",
       "      <td>57.4</td>\n",
       "      <td>13500000.0</td>\n",
       "      <td>99.0</td>\n",
       "    </tr>\n",
       "    <tr>\n",
       "      <td>7</td>\n",
       "      <td>Armenia</td>\n",
       "      <td>4950.0</td>\n",
       "      <td>3010.0</td>\n",
       "      <td>32.0</td>\n",
       "      <td>14.0</td>\n",
       "      <td>9.7</td>\n",
       "      <td>63.0</td>\n",
       "      <td>59.0</td>\n",
       "      <td>1.48</td>\n",
       "      <td>98.0</td>\n",
       "      <td>10.5</td>\n",
       "      <td>203309.0</td>\n",
       "      <td>94.0</td>\n",
       "    </tr>\n",
       "  </tbody>\n",
       "</table>\n",
       "</div>"
      ],
      "text/plain": [
       "     Country  Income_Per_Capita  Population (in thousands) total  \\\n",
       "1    Albania             6000.0                           3172.0   \n",
       "2    Algeria             5940.0                          33351.0   \n",
       "4     Angola             3890.0                          16557.0   \n",
       "6  Argentina            11670.0                          39134.0   \n",
       "7    Armenia             4950.0                           3010.0   \n",
       "\n",
       "   Population_Median_Age  Percent_Population_over_60  \\\n",
       "1                   29.0                        13.0   \n",
       "2                   24.0                         7.0   \n",
       "4                   17.0                         4.0   \n",
       "6                   29.0                        14.0   \n",
       "7                   32.0                        14.0   \n",
       "\n",
       "   Percent_Goverment_Expenditure_on_Health  Female_Life_Expectancy  \\\n",
       "1                                     11.3                    63.0   \n",
       "2                                      9.5                    62.0   \n",
       "4                                      5.0                    35.0   \n",
       "6                                     14.2                    68.0   \n",
       "7                                      9.7                    63.0   \n",
       "\n",
       "   Male_Life_Expectancy  Liters_of_Alcohol (Avg. Per year per person)  \\\n",
       "1                  59.0                                          2.01   \n",
       "2                  60.0                                          0.15   \n",
       "4                  32.0                                          3.86   \n",
       "6                  62.0                                          8.40   \n",
       "7                  59.0                                          1.48   \n",
       "\n",
       "   Percent_Population_Access_To_Clean_Water  Cell_phones_per_100_people  \\\n",
       "1                                      97.0                        48.9   \n",
       "2                                      85.0                        41.5   \n",
       "4                                      51.0                        10.3   \n",
       "6                                      96.0                        57.4   \n",
       "7                                      98.0                        10.5   \n",
       "\n",
       "   Cell_phones_total  Measles_immunization  \n",
       "1          1100000.0                  97.0  \n",
       "2          4682690.0                  83.0  \n",
       "4           940000.0                  45.0  \n",
       "6         13500000.0                  99.0  \n",
       "7           203309.0                  94.0  "
      ]
     },
     "execution_count": 2,
     "metadata": {},
     "output_type": "execute_result"
    }
   ],
   "source": [
    "# Import the WHO dataset, drop missing data\n",
    "who_data = pd.read_csv('../Resources/WHO_data.csv')\n",
    "who_data = who_data.dropna()\n",
    "who_data.head()"
   ]
  },
  {
   "cell_type": "code",
   "execution_count": 3,
   "metadata": {},
   "outputs": [
    {
     "data": {
      "image/png": "[encoded data removed]",
      "text/plain": [
       "<Figure size 432x288 with 1 Axes>"
      ]
     },
     "metadata": {
      "needs_background": "light"
     },
     "output_type": "display_data"
    }
   ],
   "source": [
    "# For the first example, determine which pairs of factors are correlated. \n",
    "plt.scatter(who_data.iloc[:,1],who_data.iloc[:,8])\n",
    "plt.xlabel('Income Per Capita')\n",
    "plt.ylabel('Average Alcohol Consumed Per Person Per Year (L)')\n",
    "plt.show()"
   ]
  },
  {
   "cell_type": "code",
   "execution_count": 4,
   "metadata": {},
   "outputs": [
    {
     "data": {
      "image/png": "[encoded data removed]",
      "text/plain": [
       "<Figure size 432x288 with 1 Axes>"
      ]
     },
     "metadata": {
      "needs_background": "light"
     },
     "output_type": "display_data"
    }
   ],
   "source": [
    "plt.scatter(who_data.iloc[:,3],who_data.iloc[:,10])\n",
    "plt.xlabel('Population Median Age')\n",
    "plt.ylabel('Cell Phones Per 100 People')\n",
    "plt.show()"
   ]
  },
  {
   "cell_type": "code",
   "execution_count": 5,
   "metadata": {},
   "outputs": [
    {
     "data": {
      "image/png": "[encoded data removed]",
      "text/plain": [
       "<Figure size 432x288 with 1 Axes>"
      ]
     },
     "metadata": {
      "needs_background": "light"
     },
     "output_type": "display_data"
    }
   ],
   "source": [
    "plt.scatter(who_data.iloc[:,5],who_data.iloc[:,7])\n",
    "plt.xlabel('% Government Expenditure on Health')\n",
    "plt.ylabel('Male Life Expectancy')\n",
    "plt.show()"
   ]
  },
  {
   "cell_type": "code",
   "execution_count": 6,
   "metadata": {},
   "outputs": [
    {
     "data": {
      "image/png": "[encoded data removed]",
      "text/plain": [
       "<Figure size 432x288 with 1 Axes>"
      ]
     },
     "metadata": {
      "needs_background": "light"
     },
     "output_type": "display_data"
    }
   ],
   "source": [
    "plt.scatter(who_data.iloc[:,1],who_data.iloc[:,12])\n",
    "plt.xlabel('Income Per Capita')\n",
    "plt.ylabel('% Measles Immunization')\n",
    "plt.show()"
   ]
  },
  {
   "cell_type": "code",
   "execution_count": 7,
   "metadata": {},
   "outputs": [
    {
     "name": "stdout",
     "output_type": "stream",
     "text": [
      "The correlation between both factors is 0.61\n"
     ]
    }
   ],
   "source": [
    "# The next example will compute the Pearson correlation coefficient between \"Income per Capita\" and \"Average Alcohol Consumed\"\n",
    "income = who_data.iloc[:,1]\n",
    "alcohol = who_data.iloc[:,8]\n",
    "# pearsonr() is the function for correlation -r squared\n",
    "correlation = st.pearsonr(income,alcohol)\n",
    "print(f\"The correlation between both factors is {round(correlation[0],2)}\")\n",
    "#correlation[0] gives r, [1] gives p"
   ]
  },
  {
   "cell_type": "code",
   "execution_count": 8,
   "metadata": {},
   "outputs": [
    {
     "name": "stdout",
     "output_type": "stream",
     "text": [
      "The correlation between both factors is 0.61\n"
     ]
    },
    {
     "data": {
      "image/png": "[encoded data removed]",
      "text/plain": [
       "<Figure size 432x288 with 1 Axes>"
      ]
     },
     "metadata": {
      "needs_background": "light"
     },
     "output_type": "display_data"
    }
   ],
   "source": [
    "# Compare the calcualted Pearson's r to the plots\n",
    "plt.scatter(income,alcohol)\n",
    "plt.xlabel('Income Per Capita')\n",
    "plt.ylabel('Average Alcohol Consumed Per Person Per Year (L)')\n",
    "print(f\"The correlation between both factors is {round(correlation[0],2)}\")\n",
    "plt.show()"
   ]
  },
  {
   "cell_type": "code",
   "execution_count": 9,
   "metadata": {},
   "outputs": [
    {
     "name": "stdout",
     "output_type": "stream",
     "text": [
      "The correlation between both factors is 0.82\n"
     ]
    },
    {
     "data": {
      "image/png": "[encoded data removed]",
      "text/plain": [
       "<Figure size 432x288 with 1 Axes>"
      ]
     },
     "metadata": {
      "needs_background": "light"
     },
     "output_type": "display_data"
    }
   ],
   "source": [
    "age = who_data.iloc[:,3]\n",
    "cell_phones = who_data.iloc[:,10]\n",
    "correlation = st.pearsonr(age,cell_phones)\n",
    "plt.scatter(age,cell_phones)\n",
    "plt.xlabel('Population Median Age')\n",
    "plt.ylabel('Cell Phones Per 100 People')\n",
    "print(f\"The correlation between both factors is {round(correlation[0],2)}\")\n",
    "plt.show()"
   ]
  },
  {
   "cell_type": "code",
   "execution_count": 10,
   "metadata": {},
   "outputs": [
    {
     "name": "stdout",
     "output_type": "stream",
     "text": [
      "The correlation between both factors is 0.28\n"
     ]
    },
    {
     "data": {
      "image/png": "[encoded data removed]",
      "text/plain": [
       "<Figure size 432x288 with 1 Axes>"
      ]
     },
     "metadata": {
      "needs_background": "light"
     },
     "output_type": "display_data"
    }
   ],
   "source": [
    "government = who_data.iloc[:,5]\n",
    "life = who_data.iloc[:,7]\n",
    "correlation = st.pearsonr(government,life)\n",
    "plt.scatter(government,life)\n",
    "plt.xlabel('% Government Expenditure on Health')\n",
    "plt.ylabel('Male Life Expectancy')\n",
    "print(f\"The correlation between both factors is {round(correlation[0],2)}\")\n",
    "plt.show()"
   ]
  },
  {
   "cell_type": "code",
   "execution_count": 11,
   "metadata": {},
   "outputs": [
    {
     "name": "stdout",
     "output_type": "stream",
     "text": [
      "The correlation between both factors is 0.34\n"
     ]
    },
    {
     "data": {
      "image/png": "[encoded data removed]",
      "text/plain": [
       "<Figure size 432x288 with 1 Axes>"
      ]
     },
     "metadata": {
      "needs_background": "light"
     },
     "output_type": "display_data"
    }
   ],
   "source": [
    "income = who_data.iloc[:,1]\n",
    "measles = who_data.iloc[:,12]\n",
    "correlation = st.pearsonr(income,measles)\n",
    "plt.scatter(income,measles)\n",
    "plt.xlabel('Income Per Capita')\n",
    "plt.ylabel('% Measles Immunization')\n",
    "print(f\"The correlation between both factors is {round(correlation[0],2)}\")\n",
    "plt.show()"
   ]
  },
  {
   "cell_type": "code",
   "execution_count": 14,
   "metadata": {},
   "outputs": [
    {
     "data": {
      "text/html": [
       "<div>\n",
       "<style scoped>\n",
       "    .dataframe tbody tr th:only-of-type {\n",
       "        vertical-align: middle;\n",
       "    }\n",
       "\n",
       "    .dataframe tbody tr th {\n",
       "        vertical-align: top;\n",
       "    }\n",
       "\n",
       "    .dataframe thead th {\n",
       "        text-align: right;\n",
       "    }\n",
       "</style>\n",
       "<table border=\"1\" class=\"dataframe\">\n",
       "  <thead>\n",
       "    <tr style=\"text-align: right;\">\n",
       "      <th></th>\n",
       "      <th>Income_Per_Capita</th>\n",
       "      <th>Population (in thousands) total</th>\n",
       "      <th>Population_Median_Age</th>\n",
       "      <th>Percent_Population_over_60</th>\n",
       "      <th>Percent_Goverment_Expenditure_on_Health</th>\n",
       "      <th>Female_Life_Expectancy</th>\n",
       "      <th>Male_Life_Expectancy</th>\n",
       "      <th>Liters_of_Alcohol (Avg. Per year per person)</th>\n",
       "      <th>Percent_Population_Access_To_Clean_Water</th>\n",
       "      <th>Cell_phones_per_100_people</th>\n",
       "      <th>Cell_phones_total</th>\n",
       "      <th>Measles_immunization</th>\n",
       "    </tr>\n",
       "  </thead>\n",
       "  <tbody>\n",
       "    <tr>\n",
       "      <td>Income_Per_Capita</td>\n",
       "      <td>1.000000</td>\n",
       "      <td>-0.029750</td>\n",
       "      <td>0.758903</td>\n",
       "      <td>0.733173</td>\n",
       "      <td>0.448790</td>\n",
       "      <td>0.681969</td>\n",
       "      <td>0.686947</td>\n",
       "      <td>0.605137</td>\n",
       "      <td>0.548312</td>\n",
       "      <td>0.843164</td>\n",
       "      <td>0.219209</td>\n",
       "      <td>0.335268</td>\n",
       "    </tr>\n",
       "    <tr>\n",
       "      <td>Population (in thousands) total</td>\n",
       "      <td>-0.029750</td>\n",
       "      <td>1.000000</td>\n",
       "      <td>0.064033</td>\n",
       "      <td>0.011948</td>\n",
       "      <td>-0.107244</td>\n",
       "      <td>0.040945</td>\n",
       "      <td>0.058453</td>\n",
       "      <td>-0.039407</td>\n",
       "      <td>0.047195</td>\n",
       "      <td>-0.058507</td>\n",
       "      <td>0.764632</td>\n",
       "      <td>-0.071607</td>\n",
       "    </tr>\n",
       "    <tr>\n",
       "      <td>Population_Median_Age</td>\n",
       "      <td>0.758903</td>\n",
       "      <td>0.064033</td>\n",
       "      <td>1.000000</td>\n",
       "      <td>0.954721</td>\n",
       "      <td>0.365933</td>\n",
       "      <td>0.822814</td>\n",
       "      <td>0.782668</td>\n",
       "      <td>0.681157</td>\n",
       "      <td>0.717907</td>\n",
       "      <td>0.823735</td>\n",
       "      <td>0.279441</td>\n",
       "      <td>0.520397</td>\n",
       "    </tr>\n",
       "    <tr>\n",
       "      <td>Percent_Population_over_60</td>\n",
       "      <td>0.733173</td>\n",
       "      <td>0.011948</td>\n",
       "      <td>0.954721</td>\n",
       "      <td>1.000000</td>\n",
       "      <td>0.396938</td>\n",
       "      <td>0.738682</td>\n",
       "      <td>0.695956</td>\n",
       "      <td>0.724628</td>\n",
       "      <td>0.642330</td>\n",
       "      <td>0.792417</td>\n",
       "      <td>0.229337</td>\n",
       "      <td>0.438190</td>\n",
       "    </tr>\n",
       "    <tr>\n",
       "      <td>Percent_Goverment_Expenditure_on_Health</td>\n",
       "      <td>0.448790</td>\n",
       "      <td>-0.107244</td>\n",
       "      <td>0.365933</td>\n",
       "      <td>0.396938</td>\n",
       "      <td>1.000000</td>\n",
       "      <td>0.288617</td>\n",
       "      <td>0.276951</td>\n",
       "      <td>0.482985</td>\n",
       "      <td>0.273460</td>\n",
       "      <td>0.373278</td>\n",
       "      <td>0.116696</td>\n",
       "      <td>0.242525</td>\n",
       "    </tr>\n",
       "    <tr>\n",
       "      <td>Female_Life_Expectancy</td>\n",
       "      <td>0.681969</td>\n",
       "      <td>0.040945</td>\n",
       "      <td>0.822814</td>\n",
       "      <td>0.738682</td>\n",
       "      <td>0.288617</td>\n",
       "      <td>1.000000</td>\n",
       "      <td>0.985465</td>\n",
       "      <td>0.458435</td>\n",
       "      <td>0.770144</td>\n",
       "      <td>0.747577</td>\n",
       "      <td>0.231331</td>\n",
       "      <td>0.588152</td>\n",
       "    </tr>\n",
       "    <tr>\n",
       "      <td>Male_Life_Expectancy</td>\n",
       "      <td>0.686947</td>\n",
       "      <td>0.058453</td>\n",
       "      <td>0.782668</td>\n",
       "      <td>0.695956</td>\n",
       "      <td>0.276951</td>\n",
       "      <td>0.985465</td>\n",
       "      <td>1.000000</td>\n",
       "      <td>0.405983</td>\n",
       "      <td>0.756443</td>\n",
       "      <td>0.726446</td>\n",
       "      <td>0.228172</td>\n",
       "      <td>0.554616</td>\n",
       "    </tr>\n",
       "    <tr>\n",
       "      <td>Liters_of_Alcohol (Avg. Per year per person)</td>\n",
       "      <td>0.605137</td>\n",
       "      <td>-0.039407</td>\n",
       "      <td>0.681157</td>\n",
       "      <td>0.724628</td>\n",
       "      <td>0.482985</td>\n",
       "      <td>0.458435</td>\n",
       "      <td>0.405983</td>\n",
       "      <td>1.000000</td>\n",
       "      <td>0.425758</td>\n",
       "      <td>0.671564</td>\n",
       "      <td>0.182029</td>\n",
       "      <td>0.242073</td>\n",
       "    </tr>\n",
       "    <tr>\n",
       "      <td>Percent_Population_Access_To_Clean_Water</td>\n",
       "      <td>0.548312</td>\n",
       "      <td>0.047195</td>\n",
       "      <td>0.717907</td>\n",
       "      <td>0.642330</td>\n",
       "      <td>0.273460</td>\n",
       "      <td>0.770144</td>\n",
       "      <td>0.756443</td>\n",
       "      <td>0.425758</td>\n",
       "      <td>1.000000</td>\n",
       "      <td>0.688257</td>\n",
       "      <td>0.182221</td>\n",
       "      <td>0.642973</td>\n",
       "    </tr>\n",
       "    <tr>\n",
       "      <td>Cell_phones_per_100_people</td>\n",
       "      <td>0.843164</td>\n",
       "      <td>-0.058507</td>\n",
       "      <td>0.823735</td>\n",
       "      <td>0.792417</td>\n",
       "      <td>0.373278</td>\n",
       "      <td>0.747577</td>\n",
       "      <td>0.726446</td>\n",
       "      <td>0.671564</td>\n",
       "      <td>0.688257</td>\n",
       "      <td>1.000000</td>\n",
       "      <td>0.173519</td>\n",
       "      <td>0.458407</td>\n",
       "    </tr>\n",
       "    <tr>\n",
       "      <td>Cell_phones_total</td>\n",
       "      <td>0.219209</td>\n",
       "      <td>0.764632</td>\n",
       "      <td>0.279441</td>\n",
       "      <td>0.229337</td>\n",
       "      <td>0.116696</td>\n",
       "      <td>0.231331</td>\n",
       "      <td>0.228172</td>\n",
       "      <td>0.182029</td>\n",
       "      <td>0.182221</td>\n",
       "      <td>0.173519</td>\n",
       "      <td>1.000000</td>\n",
       "      <td>0.111821</td>\n",
       "    </tr>\n",
       "    <tr>\n",
       "      <td>Measles_immunization</td>\n",
       "      <td>0.335268</td>\n",
       "      <td>-0.071607</td>\n",
       "      <td>0.520397</td>\n",
       "      <td>0.438190</td>\n",
       "      <td>0.242525</td>\n",
       "      <td>0.588152</td>\n",
       "      <td>0.554616</td>\n",
       "      <td>0.242073</td>\n",
       "      <td>0.642973</td>\n",
       "      <td>0.458407</td>\n",
       "      <td>0.111821</td>\n",
       "      <td>1.000000</td>\n",
       "    </tr>\n",
       "  </tbody>\n",
       "</table>\n",
       "</div>"
      ],
      "text/plain": [
       "                                              Income_Per_Capita  \\\n",
       "Income_Per_Capita                                      1.000000   \n",
       "Population (in thousands) total                       -0.029750   \n",
       "Population_Median_Age                                  0.758903   \n",
       "Percent_Population_over_60                             0.733173   \n",
       "Percent_Goverment_Expenditure_on_Health                0.448790   \n",
       "Female_Life_Expectancy                                 0.681969   \n",
       "Male_Life_Expectancy                                   0.686947   \n",
       "Liters_of_Alcohol (Avg. Per year per person)           0.605137   \n",
       "Percent_Population_Access_To_Clean_Water               0.548312   \n",
       "Cell_phones_per_100_people                             0.843164   \n",
       "Cell_phones_total                                      0.219209   \n",
       "Measles_immunization                                   0.335268   \n",
       "\n",
       "                                              Population (in thousands) total  \\\n",
       "Income_Per_Capita                                                   -0.029750   \n",
       "Population (in thousands) total                                      1.000000   \n",
       "Population_Median_Age                                                0.064033   \n",
       "Percent_Population_over_60                                           0.011948   \n",
       "Percent_Goverment_Expenditure_on_Health                             -0.107244   \n",
       "Female_Life_Expectancy                                               0.040945   \n",
       "Male_Life_Expectancy                                                 0.058453   \n",
       "Liters_of_Alcohol (Avg. Per year per person)                        -0.039407   \n",
       "Percent_Population_Access_To_Clean_Water                             0.047195   \n",
       "Cell_phones_per_100_people                                          -0.058507   \n",
       "Cell_phones_total                                                    0.764632   \n",
       "Measles_immunization                                                -0.071607   \n",
       "\n",
       "                                              Population_Median_Age  \\\n",
       "Income_Per_Capita                                          0.758903   \n",
       "Population (in thousands) total                            0.064033   \n",
       "Population_Median_Age                                      1.000000   \n",
       "Percent_Population_over_60                                 0.954721   \n",
       "Percent_Goverment_Expenditure_on_Health                    0.365933   \n",
       "Female_Life_Expectancy                                     0.822814   \n",
       "Male_Life_Expectancy                                       0.782668   \n",
       "Liters_of_Alcohol (Avg. Per year per person)               0.681157   \n",
       "Percent_Population_Access_To_Clean_Water                   0.717907   \n",
       "Cell_phones_per_100_people                                 0.823735   \n",
       "Cell_phones_total                                          0.279441   \n",
       "Measles_immunization                                       0.520397   \n",
       "\n",
       "                                              Percent_Population_over_60  \\\n",
       "Income_Per_Capita                                               0.733173   \n",
       "Population (in thousands) total                                 0.011948   \n",
       "Population_Median_Age                                           0.954721   \n",
       "Percent_Population_over_60                                      1.000000   \n",
       "Percent_Goverment_Expenditure_on_Health                         0.396938   \n",
       "Female_Life_Expectancy                                          0.738682   \n",
       "Male_Life_Expectancy                                            0.695956   \n",
       "Liters_of_Alcohol (Avg. Per year per person)                    0.724628   \n",
       "Percent_Population_Access_To_Clean_Water                        0.642330   \n",
       "Cell_phones_per_100_people                                      0.792417   \n",
       "Cell_phones_total                                               0.229337   \n",
       "Measles_immunization                                            0.438190   \n",
       "\n",
       "                                              Percent_Goverment_Expenditure_on_Health  \\\n",
       "Income_Per_Capita                                                            0.448790   \n",
       "Population (in thousands) total                                             -0.107244   \n",
       "Population_Median_Age                                                        0.365933   \n",
       "Percent_Population_over_60                                                   0.396938   \n",
       "Percent_Goverment_Expenditure_on_Health                                      1.000000   \n",
       "Female_Life_Expectancy                                                       0.288617   \n",
       "Male_Life_Expectancy                                                         0.276951   \n",
       "Liters_of_Alcohol (Avg. Per year per person)                                 0.482985   \n",
       "Percent_Population_Access_To_Clean_Water                                     0.273460   \n",
       "Cell_phones_per_100_people                                                   0.373278   \n",
       "Cell_phones_total                                                            0.116696   \n",
       "Measles_immunization                                                         0.242525   \n",
       "\n",
       "                                              Female_Life_Expectancy  \\\n",
       "Income_Per_Capita                                           0.681969   \n",
       "Population (in thousands) total                             0.040945   \n",
       "Population_Median_Age                                       0.822814   \n",
       "Percent_Population_over_60                                  0.738682   \n",
       "Percent_Goverment_Expenditure_on_Health                     0.288617   \n",
       "Female_Life_Expectancy                                      1.000000   \n",
       "Male_Life_Expectancy                                        0.985465   \n",
       "Liters_of_Alcohol (Avg. Per year per person)                0.458435   \n",
       "Percent_Population_Access_To_Clean_Water                    0.770144   \n",
       "Cell_phones_per_100_people                                  0.747577   \n",
       "Cell_phones_total                                           0.231331   \n",
       "Measles_immunization                                        0.588152   \n",
       "\n",
       "                                              Male_Life_Expectancy  \\\n",
       "Income_Per_Capita                                         0.686947   \n",
       "Population (in thousands) total                           0.058453   \n",
       "Population_Median_Age                                     0.782668   \n",
       "Percent_Population_over_60                                0.695956   \n",
       "Percent_Goverment_Expenditure_on_Health                   0.276951   \n",
       "Female_Life_Expectancy                                    0.985465   \n",
       "Male_Life_Expectancy                                      1.000000   \n",
       "Liters_of_Alcohol (Avg. Per year per person)              0.405983   \n",
       "Percent_Population_Access_To_Clean_Water                  0.756443   \n",
       "Cell_phones_per_100_people                                0.726446   \n",
       "Cell_phones_total                                         0.228172   \n",
       "Measles_immunization                                      0.554616   \n",
       "\n",
       "                                              Liters_of_Alcohol (Avg. Per year per person)  \\\n",
       "Income_Per_Capita                                                                 0.605137   \n",
       "Population (in thousands) total                                                  -0.039407   \n",
       "Population_Median_Age                                                             0.681157   \n",
       "Percent_Population_over_60                                                        0.724628   \n",
       "Percent_Goverment_Expenditure_on_Health                                           0.482985   \n",
       "Female_Life_Expectancy                                                            0.458435   \n",
       "Male_Life_Expectancy                                                              0.405983   \n",
       "Liters_of_Alcohol (Avg. Per year per person)                                      1.000000   \n",
       "Percent_Population_Access_To_Clean_Water                                          0.425758   \n",
       "Cell_phones_per_100_people                                                        0.671564   \n",
       "Cell_phones_total                                                                 0.182029   \n",
       "Measles_immunization                                                              0.242073   \n",
       "\n",
       "                                              Percent_Population_Access_To_Clean_Water  \\\n",
       "Income_Per_Capita                                                             0.548312   \n",
       "Population (in thousands) total                                               0.047195   \n",
       "Population_Median_Age                                                         0.717907   \n",
       "Percent_Population_over_60                                                    0.642330   \n",
       "Percent_Goverment_Expenditure_on_Health                                       0.273460   \n",
       "Female_Life_Expectancy                                                        0.770144   \n",
       "Male_Life_Expectancy                                                          0.756443   \n",
       "Liters_of_Alcohol (Avg. Per year per person)                                  0.425758   \n",
       "Percent_Population_Access_To_Clean_Water                                      1.000000   \n",
       "Cell_phones_per_100_people                                                    0.688257   \n",
       "Cell_phones_total                                                             0.182221   \n",
       "Measles_immunization                                                          0.642973   \n",
       "\n",
       "                                              Cell_phones_per_100_people  \\\n",
       "Income_Per_Capita                                               0.843164   \n",
       "Population (in thousands) total                                -0.058507   \n",
       "Population_Median_Age                                           0.823735   \n",
       "Percent_Population_over_60                                      0.792417   \n",
       "Percent_Goverment_Expenditure_on_Health                         0.373278   \n",
       "Female_Life_Expectancy                                          0.747577   \n",
       "Male_Life_Expectancy                                            0.726446   \n",
       "Liters_of_Alcohol (Avg. Per year per person)                    0.671564   \n",
       "Percent_Population_Access_To_Clean_Water                        0.688257   \n",
       "Cell_phones_per_100_people                                      1.000000   \n",
       "Cell_phones_total                                               0.173519   \n",
       "Measles_immunization                                            0.458407   \n",
       "\n",
       "                                              Cell_phones_total  \\\n",
       "Income_Per_Capita                                      0.219209   \n",
       "Population (in thousands) total                        0.764632   \n",
       "Population_Median_Age                                  0.279441   \n",
       "Percent_Population_over_60                             0.229337   \n",
       "Percent_Goverment_Expenditure_on_Health                0.116696   \n",
       "Female_Life_Expectancy                                 0.231331   \n",
       "Male_Life_Expectancy                                   0.228172   \n",
       "Liters_of_Alcohol (Avg. Per year per person)           0.182029   \n",
       "Percent_Population_Access_To_Clean_Water               0.182221   \n",
       "Cell_phones_per_100_people                             0.173519   \n",
       "Cell_phones_total                                      1.000000   \n",
       "Measles_immunization                                   0.111821   \n",
       "\n",
       "                                              Measles_immunization  \n",
       "Income_Per_Capita                                         0.335268  \n",
       "Population (in thousands) total                          -0.071607  \n",
       "Population_Median_Age                                     0.520397  \n",
       "Percent_Population_over_60                                0.438190  \n",
       "Percent_Goverment_Expenditure_on_Health                   0.242525  \n",
       "Female_Life_Expectancy                                    0.588152  \n",
       "Male_Life_Expectancy                                      0.554616  \n",
       "Liters_of_Alcohol (Avg. Per year per person)              0.242073  \n",
       "Percent_Population_Access_To_Clean_Water                  0.642973  \n",
       "Cell_phones_per_100_people                                0.458407  \n",
       "Cell_phones_total                                         0.111821  \n",
       "Measles_immunization                                      1.000000  "
      ]
     },
     "execution_count": 14,
     "metadata": {},
     "output_type": "execute_result"
    }
   ],
   "source": [
    "who_corr=who_data.corr()\n",
    "who_corr\n",
    "# gives correlations between everything in the dataframe"
   ]
  },
  {
   "cell_type": "code",
   "execution_count": null,
   "metadata": {},
   "outputs": [],
   "source": []
  }
 ],
 "metadata": {
  "kernelspec": {
   "display_name": "Python 3",
   "language": "python",
   "name": "python3"
  },
  "language_info": {
   "codemirror_mode": {
    "name": "ipython",
    "version": 3
   },
   "file_extension": ".py",
   "mimetype": "text/x-python",
   "name": "python",
   "nbconvert_exporter": "python",
   "pygments_lexer": "ipython3",
   "version": "3.7.4"
  }
 },
 "nbformat": 4,
 "nbformat_minor": 2
}
